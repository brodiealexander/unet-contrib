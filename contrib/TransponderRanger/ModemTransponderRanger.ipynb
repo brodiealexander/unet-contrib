{
 "cells": [
  {
   "cell_type": "markdown",
   "metadata": {},
   "source": [
    "## AUV-to-transponder range estimation application using UnetStack\n",
    "\n",
    "It is a common practice to attach a transponder to various underwater assets (both static and mobile) for short and long term field deployments. These transponders can act as a beacon that can be utilized for localization. An underwater vehicle (e.g. AUV, ROV) will be able to do sequential ranging to find the location of the transponder during a search and rescue operation.\n",
    "\n",
    "Normally, specialized transmitters are required to send a signal to these transponders to trigger a response. However, due to the software defined nature of Subnero modems, it is fairly easy to develop an application that will query a transponder and calculate the range information.\n",
    "\n",
    "\n",
    "In this post, we showcase a fully functional transponder ranging application used to ping an [Applied Acoustics 219A](https://www.ashtead-technology.com/rental-equipment/aa-219-micro-beacon/) transponder and calculate the range to it from the recorded signal. This work has been presented in [_M. Chitre, R. Bhatnagar, M. Ignatius, and S. Suman, “Baseband signal processing with UnetStack,” in Underwater Communications Networking (UComms 2014), (Sestri Levante, Italy), September 2014. (Invited)_](http://arl.nus.edu.sg/twiki6/pub/ARL/BibEntries/sdmodem.pdf).\n",
    "\n",
    "An Applied Acoustics 219A transponder is set to receive a 22 kHz tonal. We send a 5 ms long 22 kHz pulse without preamble (preambleID set to 0) using a `TxBasebandSignalReq` from UnetStack's _baseband_ service. This will trigger a response at 30.5 kHz after a fixed delay of 30 ms. We also initiate a 500 ms long baseband signal recording using `RecordBasebandSignalReq` to make sure the modem records long enough to have the response from the pinger for a range of 300m.\n",
    "\n",
    "The captured signal is then Hilbert transformed to do envelop detection. We use thresholding to find the start of the received signal. We also retrieves the `txTime` from `txntf`. Using these two timings, we calculate the range to the transponder.\n",
    "\n",
    "This application is developed using Jupyter Notebook, in Python using the UnetPy framework."
   ]
  },
  {
   "cell_type": "code",
   "execution_count": null,
   "metadata": {},
   "outputs": [],
   "source": [
    "import numpy as np\n",
    "import arlpy.signal as asig\n",
    "from arlpy.plot import *\n",
    "from unetpy import *"
   ]
  },
  {
   "cell_type": "markdown",
   "metadata": {},
   "source": [
    "### Connect to the modem\n",
    "Using the unetpy gateway, connect to the modem's IP address and subscribe to `physical` agent."
   ]
  },
  {
   "cell_type": "code",
   "execution_count": null,
   "metadata": {},
   "outputs": [],
   "source": [
    "modem = UnetGateway('192.168.1.75')"
   ]
  },
  {
   "cell_type": "code",
   "execution_count": null,
   "metadata": {},
   "outputs": [],
   "source": [
    "phy = modem.agent('phy')\n",
    "modem.subscribe(phy)"
   ]
  },
  {
   "cell_type": "markdown",
   "metadata": {},
   "source": [
    "### Set passband block count & signal power level\n",
    "Before starting passband recording, we need to set the passband block size using `phy.pbsblk` parameter. (Passband block size is the number of samples in a block of recorded passband data)"
   ]
  },
  {
   "cell_type": "code",
   "execution_count": null,
   "metadata": {},
   "outputs": [],
   "source": [
    "txFs = 192000\n",
    "sigLen = 5e-3\n",
    "phy.pbsblk = 45056\n",
    "phy.signalPowerLevel = -6"
   ]
  },
  {
   "cell_type": "markdown",
   "metadata": {},
   "source": [
    "### Flush the modem to clear its internal buffers"
   ]
  },
  {
   "cell_type": "code",
   "execution_count": null,
   "metadata": {},
   "outputs": [],
   "source": [
    "def flush_modem():\n",
    "    while modem.receive(timeout=1000):\n",
    "        pass"
   ]
  },
  {
   "cell_type": "markdown",
   "metadata": {},
   "source": [
    "### Generate the signal to be transmitted\n",
    "We use the [`cw`](https://arlpy.readthedocs.io/en/latest/signal.html#arlpy.signal.cw) function from arlpy signal processing toolbox to generate a 5 ms long 22 kHz tonal."
   ]
  },
  {
   "cell_type": "code",
   "execution_count": null,
   "metadata": {},
   "outputs": [],
   "source": [
    "tx = asig.cw(22000, sigLen, txFs).tolist()"
   ]
  },
  {
   "cell_type": "markdown",
   "metadata": {},
   "source": [
    "### Start baseband signal reception and transmit the signal\n",
    "We start a passband recording by setting `phy.pbscnt` to 1. This will start the recording of 1 block of passband data. The next step is to transmit the 22 kHz tonal. We also note down the transmission time (start of the transmission) and reception time (start of the receiving block of pb data)."
   ]
  },
  {
   "cell_type": "code",
   "execution_count": null,
   "metadata": {},
   "outputs": [],
   "source": [
    "flush_modem()\n",
    "phy.pbscnt = 1\n",
    "phy << org_arl_unet_bb.TxBasebandSignalReq(signal=tx, fc=0)\n",
    "rx = modem.receive(org_arl_unet_bb.RxBasebandSignalNtf, 5000)\n",
    "rxS = rx.signal\n",
    "rxFs = rx.fs\n",
    "txntf = modem.receive(timeout=5000)\n",
    "txTime = txntf.txTime\n",
    "rxTime = rx.rxTime"
   ]
  },
  {
   "cell_type": "markdown",
   "metadata": {},
   "source": [
    "### Plot the recorded signal & PSD\n",
    "Using arlpy's plotting utilities, we plot the time series and marked `txTime`. Note that we can see the transmitted data (saturated) in the recoded passband signal time series. In the PSD, we can see both transmission (22 kHz) and received tonal (30 kHz) clearly."
   ]
  },
  {
   "cell_type": "code",
   "execution_count": null,
   "metadata": {},
   "outputs": [],
   "source": [
    "plot(rxS, fs=rxFs, maxpts=rxFs, hold=True)\n",
    "txStart=(txTime-rxTime)/1e6\n",
    "vlines(txStart, color='orange')"
   ]
  },
  {
   "cell_type": "code",
   "execution_count": null,
   "metadata": {},
   "outputs": [],
   "source": [
    "psd(rxS, fs=rxFs)"
   ]
  },
  {
   "cell_type": "markdown",
   "metadata": {},
   "source": [
    "### Identifying receive time\n",
    "The next step is to identify the first sample from the received signal. For this, we shift the received signal by txTime + sigLen, generate a Hilbert envelop of the remaining signal and do a threshold detection. Both `txStart` and `rxStart` is marked in the plot.\n",
    "\n",
    "The Hilbert envelop is generated using the [envelop](https://arlpy.readthedocs.io/en/latest/signal.html#arlpy.signal.envelope) function from arlpy signal processing toolbox."
   ]
  },
  {
   "cell_type": "code",
   "execution_count": null,
   "metadata": {},
   "outputs": [],
   "source": [
    "shift = (txStart+sigLen*3)\n",
    "rxShifted = rxS[int(shift*rxFs):]\n",
    "env = asig.envelope(rxShifted)\n",
    "threshold = 0.9\n",
    "edge = np.flatnonzero((env[:-1] < threshold) & (env[1:] > threshold))+1"
   ]
  },
  {
   "cell_type": "code",
   "execution_count": null,
   "metadata": {},
   "outputs": [],
   "source": [
    "plot(rxS, fs=rxFs, maxpts = rxFs, hold=True)\n",
    "rxStart=(shift+edge[0]/rxFs)\n",
    "vlines(txStart, hold=True, color='orange')\n",
    "vlines(rxStart, color='purple')"
   ]
  },
  {
   "cell_type": "markdown",
   "metadata": {},
   "source": [
    "### Calculating the range\n",
    "Now that we have the `txTime` and `rxTime`, we can calculate the range. For the purpose of this blog, this test was conducted in a 2.5m x 2m x 2m water tank."
   ]
  },
  {
   "cell_type": "code",
   "execution_count": null,
   "metadata": {},
   "outputs": [],
   "source": [
    "print ('Tx Start = ', txStart, 's')\n",
    "print ('Rx Start = ', rxStart, 's')\n",
    "travelTime = rxStart-txStart-30e-3\n",
    "print ('Round trip time = ', travelTime, 's')\n",
    "soundSpeed = 1536\n",
    "print (\"Range = {0:.2f} m\".format(soundSpeed * travelTime))"
   ]
  },
  {
   "cell_type": "markdown",
   "metadata": {},
   "source": [
    "### Appendix: Behind the scenes\n",
    "To look at what is happening behind the scenes, we plot the shifted signal, PSD of the shifted signal and the envelop of the shifted signal."
   ]
  },
  {
   "cell_type": "code",
   "execution_count": null,
   "metadata": {},
   "outputs": [],
   "source": [
    "plot(rxShifted, fs=rxFs, maxpts = rxFs)"
   ]
  },
  {
   "cell_type": "code",
   "execution_count": null,
   "metadata": {},
   "outputs": [],
   "source": [
    "psd(rxS, fs=rxFs, hold=True)\n",
    "psd(rxShifted, fs=rxFs)"
   ]
  },
  {
   "cell_type": "code",
   "execution_count": null,
   "metadata": {},
   "outputs": [],
   "source": [
    "plot(env, fs=rxFs, maxpts = rxFs, hold=True)\n",
    "vlines(edge[0]/rxFs, color='orange')"
   ]
  },
  {
   "cell_type": "code",
   "execution_count": null,
   "metadata": {},
   "outputs": [],
   "source": [
    "modem.shutdown()"
   ]
  }
 ],
 "metadata": {
  "kernelspec": {
   "display_name": "Python 3",
   "language": "python",
   "name": "python3"
  },
  "language_info": {
   "codemirror_mode": {
    "name": "ipython",
    "version": 3
   },
   "file_extension": ".py",
   "mimetype": "text/x-python",
   "name": "python",
   "nbconvert_exporter": "python",
   "pygments_lexer": "ipython3",
   "version": "3.7.0"
  }
 },
 "nbformat": 4,
 "nbformat_minor": 2
}
