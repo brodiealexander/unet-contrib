{
 "cells": [
  {
   "cell_type": "code",
   "execution_count": null,
   "metadata": {},
   "outputs": [],
   "source": [
    "import numpy as np\n",
    "import arlpy.signal as asig\n",
    "from arlpy.plot import *\n",
    "from unetpy import *"
   ]
  },
  {
   "cell_type": "markdown",
   "metadata": {},
   "source": [
    "### Connect to the modem"
   ]
  },
  {
   "cell_type": "code",
   "execution_count": null,
   "metadata": {},
   "outputs": [],
   "source": [
    "modem = UnetGateway('192.168.1.34')"
   ]
  },
  {
   "cell_type": "code",
   "execution_count": null,
   "metadata": {},
   "outputs": [],
   "source": [
    "phy = modem.agent('phy')\n",
    "modem.subscribe(phy)"
   ]
  },
  {
   "cell_type": "markdown",
   "metadata": {},
   "source": [
    "### Set passband block count & signal power level"
   ]
  },
  {
   "cell_type": "code",
   "execution_count": null,
   "metadata": {},
   "outputs": [],
   "source": [
    "fs = 96000\n",
    "sigLen = 5e-3\n",
    "phy.pbsblk = 45056\n",
    "phy.signalPowerLevel = -10"
   ]
  },
  {
   "cell_type": "code",
   "execution_count": null,
   "metadata": {},
   "outputs": [],
   "source": [
    "def flush_modem():\n",
    "    while modem.receive(timeout=1000):\n",
    "        pass"
   ]
  },
  {
   "cell_type": "markdown",
   "metadata": {},
   "source": [
    "### Generater the signal to be transmitted"
   ]
  },
  {
   "cell_type": "code",
   "execution_count": null,
   "metadata": {},
   "outputs": [],
   "source": [
    "tx = asig.cw(22000, sigLen, fs*2).tolist()"
   ]
  },
  {
   "cell_type": "markdown",
   "metadata": {},
   "source": [
    "### Start baseband signal reception and transmit the signal"
   ]
  },
  {
   "cell_type": "code",
   "execution_count": null,
   "metadata": {},
   "outputs": [],
   "source": [
    "flush_modem()\n",
    "phy.npulses = 1\n",
    "#phy.pulsedelay = 100\n",
    "phy.pbscnt = 1\n",
    "phy << org_arl_unet_bb.TxBasebandSignalReq(signal=tx, fc=0)\n",
    "rx = modem.receive(org_arl_unet_bb.RxBasebandSignalNtf, 5000)\n",
    "txntf = modem.receive(timeout=5000)\n",
    "txTime = txntf.txTime\n",
    "rxTime = rx.rxTime"
   ]
  },
  {
   "cell_type": "markdown",
   "metadata": {},
   "source": [
    "### Plot the recorded signal & PSD"
   ]
  },
  {
   "cell_type": "code",
   "execution_count": null,
   "metadata": {},
   "outputs": [],
   "source": [
    "plot(rx.signal, fs=rx.fs, maxpts=48000, hold=True)\n",
    "txStart=(txTime-rxTime)/1e6\n",
    "vlines(txStart, color='orange')"
   ]
  },
  {
   "cell_type": "code",
   "execution_count": null,
   "metadata": {},
   "outputs": [],
   "source": [
    "psd(rx.signal, fs=fs, nfft=512, noverlap=None, window='hanning', color=None, style='solid', thickness=1, marker=None, filled=False, size=6, title=None, xlabel='Frequency (Hz)', ylabel='Power spectral density (dB/Hz)', xlim=None, ylim=None, width=None, height=None, hold=False, interactive=None)"
   ]
  },
  {
   "cell_type": "code",
   "execution_count": null,
   "metadata": {},
   "outputs": [],
   "source": [
    "env = asig.envelope(rx.signal[])\n",
    "threshold = 0.9\n",
    "edge = np.flatnonzero((env[:-1] < threshold) & (env[1:] > threshold))+1"
   ]
  },
  {
   "cell_type": "code",
   "execution_count": null,
   "metadata": {},
   "outputs": [],
   "source": [
    "plot(env, fs=fs, maxpts = 96000, hold=True)\n",
    "#txStart=(txTime-rxTime)/1e6\n",
    "rxStart=(edge[0]/fs)\n",
    "vlines(txStart, hold=True, color='orange')\n",
    "vlines(txStart+sigLen, color='purple')"
   ]
  },
  {
   "cell_type": "code",
   "execution_count": null,
   "metadata": {},
   "outputs": [],
   "source": [
    "print ('Tx Start = ', txStart, 's')\n",
    "print ('Rx Start = ', rxStart, 's')\n",
    "travelTime = rxStart-txStart\n",
    "print ('Round trip time = ', travelTime, 's')\n",
    "soundSpeed = 60\n",
    "print ('Range = ', soundSpeed * travelTime, 'm')"
   ]
  },
  {
   "cell_type": "code",
   "execution_count": null,
   "metadata": {},
   "outputs": [],
   "source": [
    "modem.shutdown()"
   ]
  },
  {
   "cell_type": "code",
   "execution_count": null,
   "metadata": {},
   "outputs": [],
   "source": []
  }
 ],
 "metadata": {
  "kernelspec": {
   "display_name": "Python 3",
   "language": "python",
   "name": "python3"
  },
  "language_info": {
   "codemirror_mode": {
    "name": "ipython",
    "version": 3
   },
   "file_extension": ".py",
   "mimetype": "text/x-python",
   "name": "python",
   "nbconvert_exporter": "python",
   "pygments_lexer": "ipython3",
   "version": "3.7.0"
  }
 },
 "nbformat": 4,
 "nbformat_minor": 2
}
