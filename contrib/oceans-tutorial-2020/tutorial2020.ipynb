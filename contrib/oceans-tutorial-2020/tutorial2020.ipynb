{
 "cells": [
  {
   "cell_type": "markdown",
   "metadata": {
    "slideshow": {
     "slide_type": "slide"
    }
   },
   "source": [
    "# Global Oceans 2020 hands-on tutorial"
   ]
  },
  {
   "cell_type": "markdown",
   "metadata": {
    "slideshow": {
     "slide_type": "slide"
    }
   },
   "source": [
    "## Part 5: Software LBL"
   ]
  },
  {
   "cell_type": "code",
   "execution_count": null,
   "metadata": {
    "slideshow": {
     "slide_type": "slide"
    }
   },
   "outputs": [],
   "source": [
    "import math\n",
    "import numpy as np\n",
    "from scipy.optimize import minimize\n",
    "from arlpy.plot import figure, scatter, plot\n",
    "from unetpy import *"
   ]
  },
  {
   "cell_type": "markdown",
   "metadata": {
    "slideshow": {
     "slide_type": "slide"
    }
   },
   "source": [
    "### Connect to node 1:"
   ]
  },
  {
   "cell_type": "code",
   "execution_count": null,
   "metadata": {
    "slideshow": {
     "slide_type": "-"
    }
   },
   "outputs": [],
   "source": [
    "modem1 = UnetSocket('localhost', 1101)\n",
    "gw1 = modem1.getGateway()\n",
    "node1 = modem1.agentForService(Services.NODE_INFO)"
   ]
  },
  {
   "cell_type": "code",
   "execution_count": null,
   "metadata": {
    "slideshow": {
     "slide_type": "-"
    }
   },
   "outputs": [],
   "source": [
    "node1.location"
   ]
  },
  {
   "cell_type": "markdown",
   "metadata": {
    "slideshow": {
     "slide_type": "slide"
    }
   },
   "source": [
    "### Connect to node 2:"
   ]
  },
  {
   "cell_type": "code",
   "execution_count": null,
   "metadata": {
    "slideshow": {
     "slide_type": "-"
    }
   },
   "outputs": [],
   "source": [
    "modem2 = UnetSocket('localhost', 1102)\n",
    "gw2 = modem2.getGateway()\n",
    "node2 = modem2.agentForService(Services.NODE_INFO)"
   ]
  },
  {
   "cell_type": "code",
   "execution_count": null,
   "metadata": {
    "slideshow": {
     "slide_type": "-"
    }
   },
   "outputs": [],
   "source": [
    "node2.location"
   ]
  },
  {
   "cell_type": "markdown",
   "metadata": {},
   "source": [
    "### Connect to node 3:"
   ]
  },
  {
   "cell_type": "code",
   "execution_count": null,
   "metadata": {},
   "outputs": [],
   "source": [
    "modem3 = UnetSocket('localhost', 1103)\n",
    "gw3 = modem3.getGateway()\n",
    "node3 = modem3.agentForService(Services.NODE_INFO)"
   ]
  },
  {
   "cell_type": "code",
   "execution_count": null,
   "metadata": {},
   "outputs": [],
   "source": [
    "node3.location"
   ]
  },
  {
   "cell_type": "markdown",
   "metadata": {
    "slideshow": {
     "slide_type": "slide"
    }
   },
   "source": [
    "### Plot the locations on a map:"
   ]
  },
  {
   "cell_type": "code",
   "execution_count": null,
   "metadata": {
    "slideshow": {
     "slide_type": "-"
    }
   },
   "outputs": [],
   "source": [
    "locations = [node1.location[:2], node2.location[:2], node3.location[:2]]"
   ]
  },
  {
   "cell_type": "code",
   "execution_count": null,
   "metadata": {},
   "outputs": [],
   "source": [
    "with figure(xlim=(-25,2025), ylim=(-25,2025), width=800, height=400):\n",
    "    for loc in locations:\n",
    "        scatter(loc[0], loc[1], marker='.', size=30)"
   ]
  },
  {
   "cell_type": "markdown",
   "metadata": {
    "slideshow": {
     "slide_type": "slide"
    }
   },
   "source": [
    "### Get ranging service on both nodes:"
   ]
  },
  {
   "cell_type": "code",
   "execution_count": null,
   "metadata": {},
   "outputs": [],
   "source": [
    "ranging_node1 = modem1.agentForService(Services.RANGING)\n",
    "ranging_node2 = modem2.agentForService(Services.RANGING)\n",
    "ranging_node3 = modem3.agentForService(Services.RANGING)\n",
    "gw1.subscribe(ranging_node1)\n",
    "gw2.subscribe(ranging_node2)\n",
    "gw3.subscribe(ranging_node3)"
   ]
  },
  {
   "cell_type": "markdown",
   "metadata": {
    "slideshow": {
     "slide_type": "slide"
    }
   },
   "source": [
    "### Get range from node 1 to node 4:"
   ]
  },
  {
   "cell_type": "code",
   "execution_count": null,
   "metadata": {},
   "outputs": [],
   "source": [
    "# flush any old pending messages\n",
    "gw1.flush()"
   ]
  },
  {
   "cell_type": "code",
   "execution_count": null,
   "metadata": {
    "slideshow": {
     "slide_type": "-"
    }
   },
   "outputs": [],
   "source": [
    "ranging_node1 << RangeReq(to=4)"
   ]
  },
  {
   "cell_type": "code",
   "execution_count": null,
   "metadata": {
    "slideshow": {
     "slide_type": "-"
    }
   },
   "outputs": [],
   "source": [
    "rnf1 = gw1.receive(RangeNtf, timeout=5000)\n",
    "if rnf1 is not None:\n",
    "    range1 = rnf1.range\n",
    "    print(range1)\n",
    "else:\n",
    "    print('Timed out, try again.')"
   ]
  },
  {
   "cell_type": "markdown",
   "metadata": {
    "slideshow": {
     "slide_type": "slide"
    }
   },
   "source": [
    "### Get range from node 2 to node 4:"
   ]
  },
  {
   "cell_type": "code",
   "execution_count": null,
   "metadata": {},
   "outputs": [],
   "source": [
    "# flush any old pending messages\n",
    "gw2.flush()"
   ]
  },
  {
   "cell_type": "code",
   "execution_count": null,
   "metadata": {
    "slideshow": {
     "slide_type": "-"
    }
   },
   "outputs": [],
   "source": [
    "ranging_node2 << RangeReq(to=4)"
   ]
  },
  {
   "cell_type": "code",
   "execution_count": null,
   "metadata": {
    "slideshow": {
     "slide_type": "-"
    }
   },
   "outputs": [],
   "source": [
    "rnf2 = gw2.receive(RangeNtf, timeout=5000)\n",
    "if rnf2 is not None:\n",
    "    range2 = rnf2.range\n",
    "    print(range2)\n",
    "else:\n",
    "    print('Timed out, try again.')"
   ]
  },
  {
   "cell_type": "markdown",
   "metadata": {},
   "source": [
    "### Get range from node 3 to node 4:"
   ]
  },
  {
   "cell_type": "code",
   "execution_count": null,
   "metadata": {},
   "outputs": [],
   "source": [
    "# flush any old pending messages\n",
    "gw3.flush()"
   ]
  },
  {
   "cell_type": "code",
   "execution_count": null,
   "metadata": {
    "scrolled": true
   },
   "outputs": [],
   "source": [
    "ranging_node3 << RangeReq(to=4)"
   ]
  },
  {
   "cell_type": "code",
   "execution_count": null,
   "metadata": {},
   "outputs": [],
   "source": [
    "rnf3 = gw3.receive(RangeNtf, timeout=5000)\n",
    "if rnf3 is not None:\n",
    "    range3 = rnf3.range\n",
    "    print(range3)\n",
    "else:\n",
    "    print('Timed out, try again.')"
   ]
  },
  {
   "cell_type": "markdown",
   "metadata": {
    "slideshow": {
     "slide_type": "slide"
    }
   },
   "source": [
    "### Find location of node 4:"
   ]
  },
  {
   "cell_type": "markdown",
   "metadata": {
    "slideshow": {
     "slide_type": "-"
    }
   },
   "source": [
    "$$\n",
    "\\mathbf{x}^* = \\arg\\min_\\mathbf{x} \\sum_i \\left(\\left|\\;\\mathbf{x}-\\mathbf{p}_i\\;\\right|-r_i\\right)^2\n",
    "$$"
   ]
  },
  {
   "cell_type": "code",
   "execution_count": null,
   "metadata": {
    "slideshow": {
     "slide_type": "-"
    }
   },
   "outputs": [],
   "source": [
    "def norm(x):\n",
    "    return math.sqrt(np.sum(x**2))\n",
    "\n",
    "def cost(x):\n",
    "    loc = np.asarray(locations)\n",
    "    return (norm(x-loc[0])-range1)**2 + (norm(x-loc[1])-range2)**2 + (norm(x-loc[2])-range3)**2"
   ]
  },
  {
   "cell_type": "code",
   "execution_count": null,
   "metadata": {
    "slideshow": {
     "slide_type": "-"
    }
   },
   "outputs": [],
   "source": [
    "soln = minimize(cost, (-10,20))\n",
    "list(soln.x)"
   ]
  },
  {
   "cell_type": "markdown",
   "metadata": {
    "slideshow": {
     "slide_type": "slide"
    }
   },
   "source": [
    "### Plot the solution on the map:"
   ]
  },
  {
   "cell_type": "code",
   "execution_count": null,
   "metadata": {
    "slideshow": {
     "slide_type": "-"
    }
   },
   "outputs": [],
   "source": [
    "with figure(xlim=(-25,2025), ylim=(-25,2025), width=800, height=400):\n",
    "    for loc in locations:\n",
    "        scatter(loc[0], loc[1], marker='.', size=30, hold=True)\n",
    "        scatter(list(soln.x)[0], list(soln.x)[1], marker='*', size=50, hold=True)"
   ]
  },
  {
   "cell_type": "code",
   "execution_count": null,
   "metadata": {},
   "outputs": [],
   "source": [
    "modem1.close()\n",
    "modem2.close()\n",
    "modem3.close()"
   ]
  }
 ],
 "metadata": {
  "celltoolbar": "Slideshow",
  "kernelspec": {
   "display_name": "test-tutorial",
   "language": "python",
   "name": "test-tutorial"
  },
  "language_info": {
   "codemirror_mode": {
    "name": "ipython",
    "version": 3
   },
   "file_extension": ".py",
   "mimetype": "text/x-python",
   "name": "python",
   "nbconvert_exporter": "python",
   "pygments_lexer": "ipython3",
   "version": "3.8.5"
  }
 },
 "nbformat": 4,
 "nbformat_minor": 4
}
